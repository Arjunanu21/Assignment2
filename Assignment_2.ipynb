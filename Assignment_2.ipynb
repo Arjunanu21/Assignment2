{
  "nbformat": 4,
  "nbformat_minor": 0,
  "metadata": {
    "colab": {
      "provenance": []
    },
    "kernelspec": {
      "name": "python3",
      "display_name": "Python 3"
    },
    "language_info": {
      "name": "python"
    }
  },
  "cells": [
    {
      "cell_type": "code",
      "execution_count": null,
      "metadata": {
        "id": "DqiTDt5xvaiB"
      },
      "outputs": [],
      "source": [
        "#1. A school has following rules for grading system: Ask user to enter marks and print the corresponding grade"
      ]
    },
    {
      "cell_type": "code",
      "source": [
        "mark = int(input('Enter your marks: '))\n",
        "if mark < 25:\n",
        "  print('You scored F grade.')\n",
        "elif mark >= 25 and mark < 45:\n",
        "  print('You scored E grade')\n",
        "elif mark >= 45 and mark < 50:\n",
        "  print('You scored D grade')\n",
        "elif mark>= 50 and mark <60:\n",
        "  print('You scored C grade')\n",
        "elif mark >= 60 and mark < 80:\n",
        "  print('You scored B grade')\n",
        "else:\n",
        "    print('You scored A grade')      "
      ],
      "metadata": {
        "colab": {
          "base_uri": "https://localhost:8080/"
        },
        "id": "Zo9XEKqSvnJR",
        "outputId": "b5d0169b-825f-463e-f43a-74d84b109591"
      },
      "execution_count": null,
      "outputs": [
        {
          "output_type": "stream",
          "name": "stdout",
          "text": [
            "Enter your marks: 65\n",
            "You scored B grade\n"
          ]
        }
      ]
    },
    {
      "cell_type": "code",
      "source": [
        "#2.You have a list of names. Create a new list which contains only the names with non-repeating characters.\n",
        "#Sample input = [‘John’,’Peter’,’Meera’,’Mini’,’Krishna’]\n",
        "#Sample output = [‘John’,Krishna]\n"
      ],
      "metadata": {
        "id": "36iX-0hhy4Nv"
      },
      "execution_count": null,
      "outputs": []
    },
    {
      "cell_type": "code",
      "source": [
        "list1 = ['John','Peter','Meera','Mini','Krishna']\n",
        "list2 = []\n",
        "list3 = []\n",
        "print(list1)\n",
        "for i in list1:\n",
        "  for j in range (0,len(i)):\n",
        "    for k in range (j+1,len(i)):\n",
        "      if i[j]==i[k]: #checking if the letters in jth and kth position of the word [ie i] are equal\n",
        "        list2.append(i)\n",
        "for i in list1:\n",
        "  if i not in list2:\n",
        "    list3.append(i)\n",
        "print(list3)    \n"
      ],
      "metadata": {
        "id": "n9Xi7oMA179c",
        "colab": {
          "base_uri": "https://localhost:8080/"
        },
        "outputId": "2260f074-0a23-4e54-cd46-ed77b2f080eb"
      },
      "execution_count": null,
      "outputs": [
        {
          "output_type": "stream",
          "name": "stdout",
          "text": [
            "['John', 'Peter', 'Meera', 'Mini', 'Krishna']\n",
            "['John', 'Krishna']\n"
          ]
        }
      ]
    },
    {
      "cell_type": "code",
      "source": [
        "#3.Take values of length and breadth of a rectangle from user and check if it is square or not."
      ],
      "metadata": {
        "id": "287htq-K2K5O"
      },
      "execution_count": null,
      "outputs": []
    },
    {
      "cell_type": "code",
      "source": [
        "l,b = map(int,input('Enter the length and breadth of the rectangle: ').split(' '))\n",
        "if l == b:\n",
        "  print('Length and breadth are equal so it is a Square')\n",
        "else:\n",
        "   print('Length and breadth are not equal so it is a Rectangle') "
      ],
      "metadata": {
        "colab": {
          "base_uri": "https://localhost:8080/"
        },
        "id": "4D6jL6-u2Yba",
        "outputId": "044d1d20-84d5-4811-c23d-13d5e90e8012"
      },
      "execution_count": null,
      "outputs": [
        {
          "output_type": "stream",
          "name": "stdout",
          "text": [
            "Enter the length and breadth of the rectangle: 10 5\n",
            "Length and breadth are not equal so it is a Rectangle\n"
          ]
        }
      ]
    },
    {
      "cell_type": "code",
      "source": [
        "#4. A student will not be allowed to sit in exam if his/her attendance is less than 75%. Take following input from user Number of classes held Number of classes attended. And print percentage of class attended Is student is allowed to sit in exam or not."
      ],
      "metadata": {
        "id": "HfoPcUF029iH"
      },
      "execution_count": null,
      "outputs": []
    },
    {
      "cell_type": "code",
      "source": [
        "class_held = int(input('Enter the number of classes held: '))\n",
        "class_attended = int(input('Enter the classes attended: '))\n",
        "attendance = (class_attended/class_held)*100\n",
        "print('Percentage of classes attended:',attendance)\n",
        "if attendance < 75:\n",
        "  print('You are not allowed to write the exam.')\n",
        "else:\n",
        "  print('You are allowed to write the exam.')  "
      ],
      "metadata": {
        "colab": {
          "base_uri": "https://localhost:8080/"
        },
        "id": "LCrNSuoT3rwC",
        "outputId": "bc399e81-3f32-43ec-8b65-9aefc965d822"
      },
      "execution_count": null,
      "outputs": [
        {
          "output_type": "stream",
          "name": "stdout",
          "text": [
            "Enter the number of classes held: 300\n",
            "Enter the classes attended: 236\n",
            "Percentage of classes attended: 78.66666666666666\n",
            "You are allowedto write the exam.\n"
          ]
        }
      ]
    },
    {
      "cell_type": "code",
      "source": [
        "#5.Create a list by taking length of the list and elements of the list from user.Then find the sum of the elements of the list. Also create a new called even list which contains only even numbers from first list and odd list which contains odd numbers from the list."
      ],
      "metadata": {
        "id": "m11C2w_c4sm0"
      },
      "execution_count": null,
      "outputs": []
    },
    {
      "cell_type": "code",
      "source": [
        "l= int(input('Enter the number of elements in the list: '))\n",
        "list=[]\n",
        "even = []\n",
        "odd = []\n",
        "for i in range(0,l):\n",
        "  el= int(input('Enter the element: '))\n",
        "  list.append(el)\n",
        "print(list)\n",
        "s=0\n",
        "for i in list:\n",
        "  s = s+i\n",
        "  if i% 2 == 0:\n",
        "    even.append(i)\n",
        "  else:\n",
        "    odd.append(i)\n",
        "print('Sum=',s) \n",
        "print('Even_list',even)\n",
        "print('Odd_list',odd)     "
      ],
      "metadata": {
        "colab": {
          "base_uri": "https://localhost:8080/"
        },
        "id": "wukzk9fk5jry",
        "outputId": "974e3735-ceb8-4262-876a-15e8a0559479"
      },
      "execution_count": null,
      "outputs": [
        {
          "output_type": "stream",
          "name": "stdout",
          "text": [
            "Enter the number of elements in the list: 6\n",
            "Enter the element: 2\n",
            "Enter the element: 9\n",
            "Enter the element: 17\n",
            "Enter the element: 34\n",
            "Enter the element: 65\n",
            "Enter the element: 11\n",
            "[2, 9, 17, 34, 65, 11]\n",
            "Sum= 138\n",
            "Even_list [2, 34]\n",
            "Odd_list [9, 17, 65, 11]\n"
          ]
        }
      ]
    },
    {
      "cell_type": "code",
      "source": [
        "#6.Create a sample chatbot for an ecommerce website."
      ],
      "metadata": {
        "id": "fv3zUoUF7EKy"
      },
      "execution_count": null,
      "outputs": []
    },
    {
      "cell_type": "code",
      "source": [
        "print('Welcome to Blue Mart')\n",
        "while True:\n",
        "  x=input('Enter quit to stop: ')\n",
        "  x=x.lower()\n",
        "  if x== 'quit':\n",
        "    print('Thank you for visisting,Have a nice day!')\n",
        "    break\n",
        "  y=x.split()\n",
        "  if len(y)==0:\n",
        "    print('Please give a valid input')\n",
        "  elif 'morning' in y:\n",
        "    print('Good Morning')\n",
        "  elif 'fruits' in y:\n",
        "    print('Fruits are availabe,please visit www.bluemart.com/fruits')\n",
        "  elif 'vegetables' in y:\n",
        "    print('Vegetables are availabe,please visit www.bluemart.com/vegetable')\n",
        "  elif 'grocery' in y:\n",
        "    print('Groceries are availabe,please visit www.bluemart.com/grocery')  \n",
        "  elif 'stationary' in y:\n",
        "     print('Stationary items are not availabe at the moment') \n",
        "  else:\n",
        "     print('Please use another option')  \n",
        "\n",
        "    "
      ],
      "metadata": {
        "id": "ZJhUml1TZuVN",
        "colab": {
          "base_uri": "https://localhost:8080/"
        },
        "outputId": "290b03cd-a091-47cf-a43e-e6e40db9fee9"
      },
      "execution_count": 9,
      "outputs": [
        {
          "output_type": "stream",
          "name": "stdout",
          "text": [
            "Welcome to Blue Mart\n",
            "Enter quit to stop: fruits\n",
            "Fruits are availabe,please visit www.bluemart.com/fruits\n",
            "Enter quit to stop: vegetables\n",
            "Vegetables are availabe,please visit www.bluemart.com/vegetable\n",
            "Enter quit to stop: good morning\n",
            "Good Morning\n",
            "Enter quit to stop: stationary\n",
            "Stationary items are not availabe at the moment\n",
            "Enter quit to stop: quit\n",
            "Thank you for visisting,Have a nice day!\n"
          ]
        }
      ]
    },
    {
      "cell_type": "code",
      "source": [
        "#7. Write a program to find the roots of a quadratic equation. Get the coefficients of quadratic equation ax^2+bx+c and display whether the roots are real and equal or real and distinct or roots are imaginary. You have to find the roots and display it as well. "
      ],
      "metadata": {
        "id": "OZrthpQRZxjf"
      },
      "execution_count": 10,
      "outputs": []
    },
    {
      "cell_type": "code",
      "source": [
        "import math\n",
        "a=float(input('Enter the co-effecient of a: '))\n",
        "b=float(input('Enter the co-effecient of b: '))\n",
        "c=float(input('Enter the co-effecient of c: '))\n",
        "d= b*b -(4*a*c)\n",
        "if d>0:\n",
        "  r1= (-b + math.sqrt(d)) / (2*a)\n",
        "  r2= (-b - math.sqrt(d)) / (2*a)\n",
        "  print('Roots are real and distinct',r1,r2)\n",
        "elif d==0:\n",
        "  r1 = -b/(2*a)\n",
        "  print('Roots are real and equal,r1')\n",
        "else:\n",
        "  print('Roots are imaginary')  \n",
        "\n"
      ],
      "metadata": {
        "colab": {
          "base_uri": "https://localhost:8080/"
        },
        "id": "GeIB-VqgaLr4",
        "outputId": "04b4dceb-68a2-4eff-cf6b-bcbdde43e693"
      },
      "execution_count": 11,
      "outputs": [
        {
          "output_type": "stream",
          "name": "stdout",
          "text": [
            "Enter the co-effecient of a: 4\n",
            "Enter the co-effecient of b: 8\n",
            "Enter the co-effecient of c: 2\n",
            "Roots are real and distinct -0.2928932188134524 -1.7071067811865475\n"
          ]
        }
      ]
    },
    {
      "cell_type": "code",
      "source": [
        "#8. Given a range of first 10 numbers, write a Python program to iterate from start number to the end number and print the sum of the current number and previous number"
      ],
      "metadata": {
        "id": "5NcY4nLBbqQ1"
      },
      "execution_count": 12,
      "outputs": []
    },
    {
      "cell_type": "code",
      "source": [
        "previous_num = 0\n",
        "for i in range(1,11):\n",
        "  s=previous_num+i\n",
        "  print('Current Number',i,'Previous Number',previous_num,'Sum:',s)\n",
        "  previous_num=i"
      ],
      "metadata": {
        "colab": {
          "base_uri": "https://localhost:8080/"
        },
        "id": "aNNpYldDcYaW",
        "outputId": "5d84c33e-fbd2-4837-e251-c23c49b18dd6"
      },
      "execution_count": 13,
      "outputs": [
        {
          "output_type": "stream",
          "name": "stdout",
          "text": [
            "Current Number 1 Previous Number 0 Sum: 1\n",
            "Current Number 2 Previous Number 1 Sum: 3\n",
            "Current Number 3 Previous Number 2 Sum: 5\n",
            "Current Number 4 Previous Number 3 Sum: 7\n",
            "Current Number 5 Previous Number 4 Sum: 9\n",
            "Current Number 6 Previous Number 5 Sum: 11\n",
            "Current Number 7 Previous Number 6 Sum: 13\n",
            "Current Number 8 Previous Number 7 Sum: 15\n",
            "Current Number 9 Previous Number 8 Sum: 17\n",
            "Current Number 10 Previous Number 9 Sum: 19\n"
          ]
        }
      ]
    },
    {
      "cell_type": "code",
      "source": [
        "#9. Write a Python program to find the prime numbers in a given range. Get the range from user and print prime numbers in that range.\n"
      ],
      "metadata": {
        "id": "Odk48tY9cmJR"
      },
      "execution_count": null,
      "outputs": []
    },
    {
      "cell_type": "code",
      "source": [
        "l = int(input('Enter the range: '))\n",
        "for i in range(1,l+1):\n",
        "  count=0\n",
        "  for j in range(1,i+1):\n",
        "    if(i%j==0):\n",
        "      count=count+1\n",
        "  if (count ==2):\n",
        "    print(i,end=\" \")      "
      ],
      "metadata": {
        "colab": {
          "base_uri": "https://localhost:8080/"
        },
        "id": "-AGtX0DSeQm8",
        "outputId": "5346fc54-0be2-4cd6-fcb2-d28c65bf540f"
      },
      "execution_count": null,
      "outputs": [
        {
          "output_type": "stream",
          "name": "stdout",
          "text": [
            "Enter the range: 15\n",
            "2 3 5 7 11 13 "
          ]
        }
      ]
    },
    {
      "cell_type": "code",
      "source": [
        "#10. Write a Python program to print Fibonacci series in a given range. Get the range from user and print fibonacci numbers in that range."
      ],
      "metadata": {
        "id": "N5V_-8EffA-8"
      },
      "execution_count": null,
      "outputs": []
    },
    {
      "cell_type": "code",
      "source": [
        "l=int(input('Enter the range: '))\n",
        "f1=0\n",
        "f2=1\n",
        "print(f1,end=' ')\n",
        "print(f2,end=' ')\n",
        "f3=f1+f2\n",
        "while(f3<l):\n",
        "  print(f3,end=' ')\n",
        "  f1=f2\n",
        "  f2=f3\n",
        "  f3=f1+f2"
      ],
      "metadata": {
        "colab": {
          "base_uri": "https://localhost:8080/"
        },
        "id": "fhjYW7s1gQ-l",
        "outputId": "d655cf82-e894-467f-a69e-16b3a198996c"
      },
      "execution_count": null,
      "outputs": [
        {
          "output_type": "stream",
          "name": "stdout",
          "text": [
            "Enter the range: 15\n",
            "0 1 1 2 3 5 8 13 "
          ]
        }
      ]
    },
    {
      "cell_type": "code",
      "source": [],
      "metadata": {
        "id": "g52to0ZWgb_U"
      },
      "execution_count": null,
      "outputs": []
    }
  ]
}